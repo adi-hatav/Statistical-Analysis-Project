{
 "cells": [
  {
   "cell_type": "markdown",
   "id": "15e8f4f3",
   "metadata": {},
   "source": [
    "# Statistical Analysis Project\n",
    "## Part 5 -  Baysian Inference & Missing Data\n",
    "#### Adi Hatav and Tamar Dufour Dror"
   ]
  },
  {
   "cell_type": "code",
   "execution_count": 1,
   "id": "8e4f2be8",
   "metadata": {},
   "outputs": [],
   "source": [
    "import pandas as pd\n",
    "import seaborn as sns\n",
    "import matplotlib.pyplot as plt\n",
    "import numpy as np\n",
    "from scipy import stats\n",
    "from scipy.stats import beta\n",
    "import statistics\n",
    "import random\n",
    "\n",
    "def r(float):\n",
    "    return(round(float, 3))"
   ]
  },
  {
   "cell_type": "markdown",
   "id": "44db9b16",
   "metadata": {},
   "source": [
    "### Baysian Inference\n",
    "\n",
    "#### In this section, we will analyze the effect of depression (Y) on the respondents BMI (X), among women aged 18-64 (as in part 2)."
   ]
  },
  {
   "cell_type": "code",
   "execution_count": 2,
   "id": "3b051bbd",
   "metadata": {},
   "outputs": [],
   "source": [
    "df = pd.read_csv('CVD_cleaned.csv')\n",
    "B=400\n",
    "df[\"Depression\"] = df[\"Depression\"].replace({'No':-1, 'Yes':1})\n",
    "np.random.seed(101)\n",
    "ages_catrgories = ['18-24', '25-29', '30-34', '35-39', '40-44', '45-49', '50-54', '55-59', '60-64']\n",
    "women_df = df[df[\"Age_Category\"].isin(ages_catrgories)]\n",
    "women_df = women_df[women_df[\"Sex\"]==\"Female\"]\n",
    "\n",
    "all_psi = []\n",
    "all_psi_CI = []"
   ]
  },
  {
   "cell_type": "markdown",
   "id": "4fc34cec",
   "metadata": {},
   "source": [
    "To simulate a situation in which we have past data and new data, we will create two samples from the full data:\n",
    "1. seen_sample - a sample 200 of observations. We will treat these data as new data.\n",
    "2. past_sample - a sample of 1000 differnet observation.  We will treat these data as past data."
   ]
  },
  {
   "cell_type": "code",
   "execution_count": 3,
   "id": "32bb2eab",
   "metadata": {},
   "outputs": [],
   "source": [
    "seen_sample = women_df.sample(n=200)\n",
    "df_all = women_df.merge(seen_sample, how='left', indicator=True)\n",
    "not_in_sample = df_all[df_all[\"_merge\"] == \"left_only\"]\n",
    "past_sample = not_in_sample.sample(1000).drop(\"_merge\", axis=1)"
   ]
  },
  {
   "cell_type": "markdown",
   "id": "9c7050aa",
   "metadata": {},
   "source": [
    "Let Z be a new binary variable:<br>\n",
    "    $Z = I_{X>\\tau}, \\quad \\tau = \\bar{X_{dep}}+\\bar{X_{not_dep}}$"
   ]
  },
  {
   "cell_type": "code",
   "execution_count": 4,
   "id": "99148828",
   "metadata": {},
   "outputs": [
    {
     "data": {
      "text/plain": [
       "28.981"
      ]
     },
     "execution_count": 4,
     "metadata": {},
     "output_type": "execute_result"
    }
   ],
   "source": [
    "past_sample_dep = past_sample[past_sample[\"Depression\"]==1][\"BMI\"]\n",
    "past_sample_non_dep = past_sample[past_sample[\"Depression\"]==-1][\"BMI\"]\n",
    "tau = (past_sample_dep.mean()+ past_sample_non_dep.mean())/2\n",
    "r(tau)"
   ]
  },
  {
   "cell_type": "markdown",
   "id": "76c1d4b7",
   "metadata": {},
   "source": [
    "Define the probability: $P(Z=1|Y=j)=p_j, \\quad j=0,1$<br>\n",
    "We are interested in extimating the log odds ratio $\\psi = \\eta(p_1)-\\eta(p_2)$, when\\: $\\eta(p)=log\\frac{p}{1-p}$.<br>\n",
    "Therefore: $\\psi = log\\left(\\frac{\\frac{p_0}{1-p_0}}{\\frac{p_1}{1-p_1}}\\right)$"
   ]
  },
  {
   "cell_type": "code",
   "execution_count": 5,
   "id": "44f1673b",
   "metadata": {},
   "outputs": [
    {
     "name": "stdout",
     "output_type": "stream",
     "text": [
      "psi = 0.624\n",
      "95% credible interval for psi, based on precentile:[ 0.339 , 0.929 ]\n"
     ]
    }
   ],
   "source": [
    "def eta (p):\n",
    "    return np.log(p/(1-p)) \n",
    "\n",
    "p1 = sum([1 if x>= tau else 0 for x in past_sample_dep])/len(past_sample_dep)\n",
    "p2 = sum([1 if x>= tau else 0 for x in past_sample_non_dep])/len(past_sample_non_dep)\n",
    "psi = eta(p1)-eta(p2)\n",
    "all_psi.append(psi)\n",
    "print(\"psi =\", r(psi))\n",
    "\n",
    "psis=[]\n",
    "#Bootstrap\n",
    "for b in range(B):\n",
    "    boot_sample = past_sample.sample(n=1000, replace=True)\n",
    "    boot_dep = boot_sample[boot_sample[\"Depression\"]==1][\"BMI\"]\n",
    "    boot_non_dep = boot_sample[boot_sample[\"Depression\"]==-1][\"BMI\"]\n",
    "    p1 = sum([1 if x>= tau else 0 for x in boot_dep])/len(boot_dep)\n",
    "    p2 = sum([1 if x>= tau else 0 for x in boot_non_dep])/len(boot_non_dep)\n",
    "    psi = eta(p1)-eta(p2)\n",
    "    psis.append(psi)\n",
    "psis = np.array(psis)\n",
    "boots_q0975 = np.quantile(psis, q=0.975)\n",
    "boots_q0025 = np.quantile(psis, q=0.025)\n",
    "print(\"95% credible interval for psi, based on precentile:[\", r(boots_q0025), \",\", r(boots_q0975),\"]\")\n",
    "all_psi_CI.append([r(boots_q0025),r(boots_q0975)]) \n",
    "    "
   ]
  },
  {
   "cell_type": "markdown",
   "id": "79c867fc",
   "metadata": {},
   "source": [
    "Hence, $\\left(\\frac{\\frac{p_0}{1-p_0}}{\\frac{p_1}{1-p_1}}\\right)>1$<br>\n",
    "$\\frac{p_0}{1-p_0}>\\frac{p_1}{1-p_1}$"
   ]
  },
  {
   "cell_type": "markdown",
   "id": "ec053579",
   "metadata": {},
   "source": [
    "Estimating psi according to a uniform prior:<br>\n",
    "$ f(p|z^n) \\propto Beta(S+1, n-S+1)$ <br> $S=\\sum Z_i$"
   ]
  },
  {
   "cell_type": "code",
   "execution_count": 6,
   "id": "17643ef9",
   "metadata": {},
   "outputs": [],
   "source": [
    "n1 = len(past_sample_dep)\n",
    "n2 = len(past_sample_non_dep)\n",
    "p1_est = 2/(2+n1)*0.5 + (n1/(n1+2))*p1\n",
    "p2_est = 2/(2+n2)*0.5 + (n2/(n2+2))*p2\n",
    "psi_est = eta(p1_est)-eta(p2_est)\n",
    "psi_est\n",
    "all_psi.append(psi_est)"
   ]
  },
  {
   "cell_type": "code",
   "execution_count": 7,
   "id": "75f56ddd",
   "metadata": {},
   "outputs": [
    {
     "name": "stdout",
     "output_type": "stream",
     "text": [
      "95% credible interval, based on uniform prior:[ 0.452 ,  0.975 ]\n"
     ]
    }
   ],
   "source": [
    "s1 = p1*n1\n",
    "s2 = p2*n2\n",
    "estimators = []\n",
    "for b in range(B):\n",
    "    p1_val = stats.beta.rvs(s1 +1, n1 - s1 + 1, size = 1)\n",
    "    p2_val = stats.beta.rvs(s2 +1, n2 - s2 + 1, size = 1)\n",
    "    estimators.append(eta(p1_val)-eta(p2_val))\n",
    "q0975 = np.quantile(estimators, q=0.975)\n",
    "q0025 = np.quantile(estimators, q=0.025)\n",
    "print(\"95% credible interval for psi, based on uniform prior:[\", r(q0025), \", \", r(q0975),\"]\")\n",
    "all_psi_CI.append([r(q0025),r(q0975)])"
   ]
  },
  {
   "cell_type": "markdown",
   "id": "82336ac6",
   "metadata": {},
   "source": [
    "Estimating psi according to Jeffreys' prior: <br>\n",
    "$Z_1,...,Z_n ~ Ber(p),\\qquad$ therfore $I(p) = \\frac{1}{p(1-p}$<br>\n",
    "$\\pi(p)= \\sqrt{\\frac{1}{p(1-p}}$<br>\n",
    "$ f(p_i|z^n) \\propto Beta(S_i+0.5, n_i-S_i+0.5)$"
   ]
  },
  {
   "cell_type": "code",
   "execution_count": 8,
   "id": "c71eef26",
   "metadata": {},
   "outputs": [
    {
     "name": "stdout",
     "output_type": "stream",
     "text": [
      "Estimator for p1:  0.502\n",
      "Estimator for p2:  0.328\n",
      "Estimator for psi:  0.727\n"
     ]
    }
   ],
   "source": [
    "p1_lst = []\n",
    "p2_lst = []\n",
    "for b in range(B):\n",
    "    p1_val = stats.beta.rvs(s1 +0.5, n1 - s1 + 0.5, size = 1)\n",
    "    p2_val = stats.beta.rvs(s2 +0.5, n2 - s2 + 0.5, size = 1)\n",
    "    p1_lst.append(p1_val)\n",
    "    p2_lst.append(p2_val)\n",
    "print(\"Estimator for p1: \", r(np.array(p1_lst).mean()))\n",
    "print(\"Estimator for p2: \", r(np.array(p2_lst).mean()))\n",
    "psi_C = eta(np.array(p1_lst).mean())-eta(np.array(p2_lst).mean())\n",
    "print(\"Estimator for psi: \", r(psi_C))\n",
    "all_psi.append(psi_C)"
   ]
  },
  {
   "cell_type": "code",
   "execution_count": 9,
   "id": "186110bf",
   "metadata": {},
   "outputs": [
    {
     "name": "stdout",
     "output_type": "stream",
     "text": [
      "95% credible interval, based on Jeffreys' prior:[ 0.42 , 0.988 ]\n"
     ]
    }
   ],
   "source": [
    "estimators1 = []\n",
    "for b in range(B):\n",
    "    p1_val = stats.beta.rvs(s1 +0.5, n1 - s1 + 0.5, size = 1)\n",
    "    p2_val = stats.beta.rvs(s2 +0.5, n2 - s2 + 0.5, size = 1)\n",
    "    estimators1.append(eta(p1_val)-eta(p2_val))\n",
    "q0975 = np.quantile(estimators1, q=0.975)\n",
    "q0025 = np.quantile(estimators1, q=0.025)\n",
    "print(\"95% credible interval, based on Jeffreys' prior:[\", r(q0025), \",\", r(q0975),\"]\")\n",
    "all_psi_CI.append([r(q0025), r(q0975)])"
   ]
  },
  {
   "cell_type": "markdown",
   "id": "e8a48739",
   "metadata": {},
   "source": [
    "Calculating prior, based on the past sample:\n",
    "We know that beta distribution is a conjugate prior for binomial. As a result, the posterior distribution is beta too.<br>\n",
    "Using the method of moments, we will estimate the parameters of the posterior distribution:<br>\n",
    "$\\mathbb{E}[X] = \\frac{\\alpha}{\\alpha+\\beta}$ <br>\n",
    "$\\mathbb{Var}[X] = \\frac{\\alpha\\beta}{(\\alpha+\\beta)(\\alpha+\\beta+1)}$ <br>"
   ]
  },
  {
   "cell_type": "code",
   "execution_count": 10,
   "id": "fe318261",
   "metadata": {},
   "outputs": [
    {
     "name": "stdout",
     "output_type": "stream",
     "text": [
      "The prior of the BMI for women who reported being depressed: Beta( 8.073 , 16.37 )\n",
      "The prior of BMI of Women who reported not being depressed: Beta( 10.738 , 15.329 )\n"
     ]
    }
   ],
   "source": [
    "def estimate_alpha_beta(data):\n",
    "    mean = data.mean()\n",
    "    var = data.var()\n",
    "    alpha = mean*(((mean*(1-mean))/var)-1)\n",
    "    beta = (1-mean)*((mean*(1-mean)/var)-1)\n",
    "    return alpha, beta\n",
    "\n",
    "w_dep = past_sample[past_sample[\"Depression\"]==1][\"BMI\"].to_numpy()\n",
    "max_w_dep = np.max(w_dep)\n",
    "w_dep = w_dep/max_w_dep #normalization\n",
    "w_non_dep = past_sample[past_sample[\"Depression\"]==-1][\"BMI\"].to_numpy()\n",
    "max_w_non_dep = np.max(w_non_dep)\n",
    "w_non_dep = w_non_dep/max_w_non_dep #normalization\n",
    "\n",
    "\n",
    "a_dep, b_dep = estimate_alpha_beta(w_dep)\n",
    "a_non, b_non = estimate_alpha_beta(w_non_dep)\n",
    "\n",
    "print(\"The prior of the BMI for women who reported being depressed: Beta(\",r(a_dep),\",\", r(b_dep),\")\")\n",
    "print(\"The prior of BMI of Women who reported not being depressed: Beta(\",r(a_non),\",\", r(b_non),\")\")"
   ]
  },
  {
   "cell_type": "code",
   "execution_count": 11,
   "id": "cb467777",
   "metadata": {},
   "outputs": [
    {
     "name": "stdout",
     "output_type": "stream",
     "text": [
      "Estimator for p1:  0.333\n",
      "Estimator for p2:  0.41\n",
      "psi is:  -0.329\n",
      "95% credible interval for psi, based on uniform prior:[ -1.465 ,  0.923 ]\n"
     ]
    }
   ],
   "source": [
    "estimators2 = []\n",
    "p1_lst1 = []\n",
    "p2_lst1 = []\n",
    "# \n",
    "for b in range(B):\n",
    "    p1_val = stats.beta.rvs(a_dep, b_dep, size = 1)\n",
    "    p2_val = stats.beta.rvs(a_non, b_non, size = 1)\n",
    "    p1_lst1.append(p1_val)\n",
    "    p2_lst1.append(p2_val)\n",
    "    estimators2.append(eta(p1_val)-eta(p2_val))\n",
    "q0975 = np.quantile(estimators2, q=0.975)\n",
    "q0025 = np.quantile(estimators2, q=0.025)\n",
    "psi_D = eta(np.array(p1_lst1).mean())-eta(np.array(p2_lst1).mean())\n",
    "all_psi.append(psi_D)\n",
    "\n",
    "print(\"Estimator for p1: \", r(np.array(p1_lst1).mean()))\n",
    "print(\"Estimator for p2: \", r(np.array(p2_lst1).mean()))\n",
    "print(\"psi is: \", r(psi_D))\n",
    "\n",
    "print(\"95% credible interval for psi, based on uniform prior:[\", r(q0025), \", \", r(q0975),\"]\")\n",
    "all_psi_CI.append([r(q0025), r(q0975)])"
   ]
  },
  {
   "cell_type": "markdown",
   "id": "4af93853",
   "metadata": {},
   "source": [
    "Comparison of the different estimates:"
   ]
  },
  {
   "cell_type": "code",
   "execution_count": 12,
   "id": "f92f4f1e",
   "metadata": {},
   "outputs": [
    {
     "name": "stdout",
     "output_type": "stream",
     "text": [
      "Credible intervals and estimator for psi:\n",
      "A :\n",
      "0.624\n",
      "[0.339, 0.929]\n",
      "B :\n",
      "0.716\n",
      "[0.452, 0.975]\n",
      "C :\n",
      "0.727\n",
      "[0.42, 0.988]\n",
      "D :\n",
      "-0.329\n",
      "[-1.465, 0.923]\n"
     ]
    }
   ],
   "source": [
    "questions = [\"A\", \"B\", \"C\", \"D\"]\n",
    "print(\"Credible intervals and estimator for psi:\")\n",
    "for i, q in enumerate(questions):\n",
    "    print(q, \":\")\n",
    "    print(r(all_psi[i]))\n",
    "    print(all_psi_CI[i])"
   ]
  },
  {
   "cell_type": "markdown",
   "id": "c829dfe5",
   "metadata": {},
   "source": [
    "### Missing Data\n",
    "Features: height, smoking history, alcohol consumption <br>\n",
    "Response variable: weight<br>\n",
    "In this section, we will artificially generate missing data in the response variable, and examine the success of various methods."
   ]
  },
  {
   "cell_type": "code",
   "execution_count": 13,
   "id": "fd25b8b1",
   "metadata": {},
   "outputs": [],
   "source": [
    "df[\"Smoking_History\"] = df[\"Smoking_History\"].replace({'No':0, 'Yes':1})\n",
    "data = df[[\"Height_(cm)\",\"Smoking_History\",\"Alcohol_Consumption\", \"Weight_(kg)\"]]\n",
    "data = data.sample(n=1000)\n",
    "X = data[[\"Height_(cm)\",\"Smoking_History\",\"Alcohol_Consumption\"]].to_numpy()\n",
    "y = data[\"Weight_(kg)\"].to_numpy()\n",
    "X = np.c_[np.ones(X.shape[0]), X]\n",
    "beta_index = [0,1,2,3]"
   ]
  },
  {
   "cell_type": "markdown",
   "id": "d82204bd",
   "metadata": {},
   "source": [
    "Calculating the beta coefficient vector according to the original database:"
   ]
  },
  {
   "cell_type": "code",
   "execution_count": 14,
   "id": "ddcb0f51",
   "metadata": {},
   "outputs": [
    {
     "name": "stdout",
     "output_type": "stream",
     "text": [
      "Estimator fot beta 0 :  -81.948\n",
      "95% Confidence interval for beta0 : [ -100.646 ,  -63.251 ]\n",
      "-------------------------------------------------------------------------\n",
      "Estimator fot beta 1 :  0.965\n",
      "95% Confidence interval for beta1 : [ 0.855 ,  1.076 ]\n",
      "-------------------------------------------------------------------------\n",
      "Estimator fot beta 2 :  2.775\n",
      "95% Confidence interval for beta2 : [ 0.383 ,  5.166 ]\n",
      "-------------------------------------------------------------------------\n",
      "Estimator fot beta 3 :  -0.161\n",
      "95% Confidence interval for beta3 : [ -0.311 ,  -0.012 ]\n",
      "-------------------------------------------------------------------------\n"
     ]
    },
    {
     "data": {
      "text/plain": [
       "array([-81.94818344,   0.96539206,   2.774529  ,  -0.16130645])"
      ]
     },
     "execution_count": 14,
     "metadata": {},
     "output_type": "execute_result"
    }
   ],
   "source": [
    "def calc_beta_coef(X,y):\n",
    "    beta_CI_dict_2 = {key: None for key in beta_index}\n",
    "    XTX_inverse = np.linalg.inv(np.matmul(X.T, X))\n",
    "    XTy = np.matmul(X.T, y)\n",
    "    n = X.shape[0]\n",
    "    p=4\n",
    "    beta_estimate = np.matmul(XTX_inverse,XTy)\n",
    "    y_mean = np.mean(y)\n",
    "    y_estimate = np.matmul(X, beta_estimate)\n",
    "\n",
    "    e = y - y_estimate\n",
    "    noise_var = 1/(n-p)*sum(i**2 for i in e)\n",
    "    C = XTX_inverse\n",
    "    z = stats.norm.ppf(0.975)\n",
    "    for i in range (beta_estimate.shape[0]):\n",
    "        se = (noise_var*C[i][i])**0.5\n",
    "        lower = beta_estimate[i]-(z*se)\n",
    "        upper = beta_estimate[i]+(z*se)\n",
    "        print(\"Estimator fot beta \"+str(i),\": \", r(beta_estimate[i]))\n",
    "        print(\"95% Confidence interval for beta\"+ str(i)+ \" : [\", r(lower), \", \", r(upper),\"]\")\n",
    "        beta_CI_dict_2[i] = [lower,upper]\n",
    "        print(\"-------------------------------------------------------------------------\")\n",
    "    return beta_estimate\n",
    "    \n",
    "\n",
    "calc_beta_coef(X,y)"
   ]
  },
  {
   "cell_type": "markdown",
   "id": "ca20d291",
   "metadata": {},
   "source": [
    "We will create a database with missing data in which the greater the value of the explanatory variable, the more likely it is to be missing:"
   ]
  },
  {
   "cell_type": "code",
   "execution_count": 15,
   "id": "46272927",
   "metadata": {},
   "outputs": [],
   "source": [
    "data1 = data.sort_values(\"Weight_(kg)\", ascending = False)\n",
    "\n",
    "y1 = data1[\"Weight_(kg)\"].to_numpy()\n",
    "y_missing = y1\n",
    "for i in range(data1.shape[0]):\n",
    "    ber = stats.bernoulli.rvs(1-(0.9*(i/1000)+0.1))\n",
    "    if ber ==1:\n",
    "        y_missing[i] = None"
   ]
  },
  {
   "cell_type": "code",
   "execution_count": 16,
   "id": "987c261d",
   "metadata": {},
   "outputs": [
    {
     "data": {
      "text/html": [
       "<div>\n",
       "<style scoped>\n",
       "    .dataframe tbody tr th:only-of-type {\n",
       "        vertical-align: middle;\n",
       "    }\n",
       "\n",
       "    .dataframe tbody tr th {\n",
       "        vertical-align: top;\n",
       "    }\n",
       "\n",
       "    .dataframe thead th {\n",
       "        text-align: right;\n",
       "    }\n",
       "</style>\n",
       "<table border=\"1\" class=\"dataframe\">\n",
       "  <thead>\n",
       "    <tr style=\"text-align: right;\">\n",
       "      <th></th>\n",
       "      <th>Height_(cm)</th>\n",
       "      <th>Smoking_History</th>\n",
       "      <th>Alcohol_Consumption</th>\n",
       "      <th>Weight_(kg)</th>\n",
       "    </tr>\n",
       "  </thead>\n",
       "  <tbody>\n",
       "    <tr>\n",
       "      <th>147502</th>\n",
       "      <td>175</td>\n",
       "      <td>1</td>\n",
       "      <td>0</td>\n",
       "      <td>NaN</td>\n",
       "    </tr>\n",
       "    <tr>\n",
       "      <th>228942</th>\n",
       "      <td>183</td>\n",
       "      <td>0</td>\n",
       "      <td>8</td>\n",
       "      <td>NaN</td>\n",
       "    </tr>\n",
       "    <tr>\n",
       "      <th>29135</th>\n",
       "      <td>193</td>\n",
       "      <td>1</td>\n",
       "      <td>0</td>\n",
       "      <td>176.90</td>\n",
       "    </tr>\n",
       "    <tr>\n",
       "      <th>122334</th>\n",
       "      <td>180</td>\n",
       "      <td>1</td>\n",
       "      <td>0</td>\n",
       "      <td>NaN</td>\n",
       "    </tr>\n",
       "    <tr>\n",
       "      <th>233629</th>\n",
       "      <td>170</td>\n",
       "      <td>1</td>\n",
       "      <td>0</td>\n",
       "      <td>170.10</td>\n",
       "    </tr>\n",
       "    <tr>\n",
       "      <th>...</th>\n",
       "      <td>...</td>\n",
       "      <td>...</td>\n",
       "      <td>...</td>\n",
       "      <td>...</td>\n",
       "    </tr>\n",
       "    <tr>\n",
       "      <th>21748</th>\n",
       "      <td>160</td>\n",
       "      <td>0</td>\n",
       "      <td>0</td>\n",
       "      <td>44.00</td>\n",
       "    </tr>\n",
       "    <tr>\n",
       "      <th>33433</th>\n",
       "      <td>150</td>\n",
       "      <td>1</td>\n",
       "      <td>0</td>\n",
       "      <td>43.09</td>\n",
       "    </tr>\n",
       "    <tr>\n",
       "      <th>166571</th>\n",
       "      <td>155</td>\n",
       "      <td>1</td>\n",
       "      <td>0</td>\n",
       "      <td>40.82</td>\n",
       "    </tr>\n",
       "    <tr>\n",
       "      <th>225117</th>\n",
       "      <td>165</td>\n",
       "      <td>1</td>\n",
       "      <td>0</td>\n",
       "      <td>38.56</td>\n",
       "    </tr>\n",
       "    <tr>\n",
       "      <th>235233</th>\n",
       "      <td>160</td>\n",
       "      <td>1</td>\n",
       "      <td>0</td>\n",
       "      <td>38.56</td>\n",
       "    </tr>\n",
       "  </tbody>\n",
       "</table>\n",
       "<p>1000 rows × 4 columns</p>\n",
       "</div>"
      ],
      "text/plain": [
       "        Height_(cm)  Smoking_History  Alcohol_Consumption  Weight_(kg)\n",
       "147502          175                1                    0          NaN\n",
       "228942          183                0                    8          NaN\n",
       "29135           193                1                    0       176.90\n",
       "122334          180                1                    0          NaN\n",
       "233629          170                1                    0       170.10\n",
       "...             ...              ...                  ...          ...\n",
       "21748           160                0                    0        44.00\n",
       "33433           150                1                    0        43.09\n",
       "166571          155                1                    0        40.82\n",
       "225117          165                1                    0        38.56\n",
       "235233          160                1                    0        38.56\n",
       "\n",
       "[1000 rows x 4 columns]"
      ]
     },
     "execution_count": 16,
     "metadata": {},
     "output_type": "execute_result"
    }
   ],
   "source": [
    "data1[\"Weight_(kg)\"] = y_missing\n",
    "data_nan = data1.copy()\n",
    "data1"
   ]
  },
  {
   "cell_type": "code",
   "execution_count": 17,
   "id": "9eba14c5",
   "metadata": {},
   "outputs": [
    {
     "name": "stdout",
     "output_type": "stream",
     "text": [
      "<class 'pandas.core.frame.DataFrame'>\n",
      "Int64Index: 1000 entries, 147502 to 235233\n",
      "Data columns (total 4 columns):\n",
      " #   Column               Non-Null Count  Dtype  \n",
      "---  ------               --------------  -----  \n",
      " 0   Height_(cm)          1000 non-null   int64  \n",
      " 1   Smoking_History      1000 non-null   int64  \n",
      " 2   Alcohol_Consumption  1000 non-null   int64  \n",
      " 3   Weight_(kg)          565 non-null    float64\n",
      "dtypes: float64(1), int64(3)\n",
      "memory usage: 39.1 KB\n"
     ]
    }
   ],
   "source": [
    "data1.info()"
   ]
  },
  {
   "cell_type": "markdown",
   "id": "0e5cbedf",
   "metadata": {},
   "source": [
    "Describe the new data, with the missing values:"
   ]
  },
  {
   "cell_type": "code",
   "execution_count": 18,
   "id": "e5859343",
   "metadata": {},
   "outputs": [
    {
     "data": {
      "text/html": [
       "<div>\n",
       "<style scoped>\n",
       "    .dataframe tbody tr th:only-of-type {\n",
       "        vertical-align: middle;\n",
       "    }\n",
       "\n",
       "    .dataframe tbody tr th {\n",
       "        vertical-align: top;\n",
       "    }\n",
       "\n",
       "    .dataframe thead th {\n",
       "        text-align: right;\n",
       "    }\n",
       "</style>\n",
       "<table border=\"1\" class=\"dataframe\">\n",
       "  <thead>\n",
       "    <tr style=\"text-align: right;\">\n",
       "      <th></th>\n",
       "      <th>Height_(cm)</th>\n",
       "      <th>Smoking_History</th>\n",
       "      <th>Alcohol_Consumption</th>\n",
       "      <th>Weight_(kg)</th>\n",
       "    </tr>\n",
       "  </thead>\n",
       "  <tbody>\n",
       "    <tr>\n",
       "      <th>count</th>\n",
       "      <td>565.000000</td>\n",
       "      <td>565.000000</td>\n",
       "      <td>565.000000</td>\n",
       "      <td>565.000000</td>\n",
       "    </tr>\n",
       "    <tr>\n",
       "      <th>mean</th>\n",
       "      <td>168.217699</td>\n",
       "      <td>0.375221</td>\n",
       "      <td>4.669027</td>\n",
       "      <td>73.580212</td>\n",
       "    </tr>\n",
       "    <tr>\n",
       "      <th>std</th>\n",
       "      <td>10.046190</td>\n",
       "      <td>0.484609</td>\n",
       "      <td>8.062599</td>\n",
       "      <td>16.365648</td>\n",
       "    </tr>\n",
       "    <tr>\n",
       "      <th>min</th>\n",
       "      <td>135.000000</td>\n",
       "      <td>0.000000</td>\n",
       "      <td>0.000000</td>\n",
       "      <td>38.560000</td>\n",
       "    </tr>\n",
       "    <tr>\n",
       "      <th>25%</th>\n",
       "      <td>160.000000</td>\n",
       "      <td>0.000000</td>\n",
       "      <td>0.000000</td>\n",
       "      <td>61.230000</td>\n",
       "    </tr>\n",
       "    <tr>\n",
       "      <th>50%</th>\n",
       "      <td>168.000000</td>\n",
       "      <td>0.000000</td>\n",
       "      <td>1.000000</td>\n",
       "      <td>72.570000</td>\n",
       "    </tr>\n",
       "    <tr>\n",
       "      <th>75%</th>\n",
       "      <td>175.000000</td>\n",
       "      <td>1.000000</td>\n",
       "      <td>5.000000</td>\n",
       "      <td>83.910000</td>\n",
       "    </tr>\n",
       "    <tr>\n",
       "      <th>max</th>\n",
       "      <td>196.000000</td>\n",
       "      <td>1.000000</td>\n",
       "      <td>30.000000</td>\n",
       "      <td>176.900000</td>\n",
       "    </tr>\n",
       "  </tbody>\n",
       "</table>\n",
       "</div>"
      ],
      "text/plain": [
       "       Height_(cm)  Smoking_History  Alcohol_Consumption  Weight_(kg)\n",
       "count   565.000000       565.000000           565.000000   565.000000\n",
       "mean    168.217699         0.375221             4.669027    73.580212\n",
       "std      10.046190         0.484609             8.062599    16.365648\n",
       "min     135.000000         0.000000             0.000000    38.560000\n",
       "25%     160.000000         0.000000             0.000000    61.230000\n",
       "50%     168.000000         0.000000             1.000000    72.570000\n",
       "75%     175.000000         1.000000             5.000000    83.910000\n",
       "max     196.000000         1.000000            30.000000   176.900000"
      ]
     },
     "execution_count": 18,
     "metadata": {},
     "output_type": "execute_result"
    }
   ],
   "source": [
    "data1_full = data1.dropna(axis=0)\n",
    "data1_full.describe()"
   ]
  },
  {
   "cell_type": "markdown",
   "id": "8af5e92a",
   "metadata": {},
   "source": [
    "For comparison, describe the original data without missing values:"
   ]
  },
  {
   "cell_type": "code",
   "execution_count": 19,
   "id": "788de3b3",
   "metadata": {},
   "outputs": [
    {
     "data": {
      "text/html": [
       "<div>\n",
       "<style scoped>\n",
       "    .dataframe tbody tr th:only-of-type {\n",
       "        vertical-align: middle;\n",
       "    }\n",
       "\n",
       "    .dataframe tbody tr th {\n",
       "        vertical-align: top;\n",
       "    }\n",
       "\n",
       "    .dataframe thead th {\n",
       "        text-align: right;\n",
       "    }\n",
       "</style>\n",
       "<table border=\"1\" class=\"dataframe\">\n",
       "  <thead>\n",
       "    <tr style=\"text-align: right;\">\n",
       "      <th></th>\n",
       "      <th>Height_(cm)</th>\n",
       "      <th>Smoking_History</th>\n",
       "      <th>Alcohol_Consumption</th>\n",
       "      <th>Weight_(kg)</th>\n",
       "    </tr>\n",
       "  </thead>\n",
       "  <tbody>\n",
       "    <tr>\n",
       "      <th>count</th>\n",
       "      <td>1000.00000</td>\n",
       "      <td>1000.000000</td>\n",
       "      <td>1000.000000</td>\n",
       "      <td>1000.000000</td>\n",
       "    </tr>\n",
       "    <tr>\n",
       "      <th>mean</th>\n",
       "      <td>170.49700</td>\n",
       "      <td>0.409000</td>\n",
       "      <td>4.799000</td>\n",
       "      <td>83.008940</td>\n",
       "    </tr>\n",
       "    <tr>\n",
       "      <th>std</th>\n",
       "      <td>10.82632</td>\n",
       "      <td>0.491895</td>\n",
       "      <td>7.996032</td>\n",
       "      <td>21.555014</td>\n",
       "    </tr>\n",
       "    <tr>\n",
       "      <th>min</th>\n",
       "      <td>130.00000</td>\n",
       "      <td>0.000000</td>\n",
       "      <td>0.000000</td>\n",
       "      <td>38.560000</td>\n",
       "    </tr>\n",
       "    <tr>\n",
       "      <th>25%</th>\n",
       "      <td>163.00000</td>\n",
       "      <td>0.000000</td>\n",
       "      <td>0.000000</td>\n",
       "      <td>68.040000</td>\n",
       "    </tr>\n",
       "    <tr>\n",
       "      <th>50%</th>\n",
       "      <td>170.00000</td>\n",
       "      <td>0.000000</td>\n",
       "      <td>1.000000</td>\n",
       "      <td>81.650000</td>\n",
       "    </tr>\n",
       "    <tr>\n",
       "      <th>75%</th>\n",
       "      <td>178.00000</td>\n",
       "      <td>1.000000</td>\n",
       "      <td>5.000000</td>\n",
       "      <td>93.102500</td>\n",
       "    </tr>\n",
       "    <tr>\n",
       "      <th>max</th>\n",
       "      <td>241.00000</td>\n",
       "      <td>1.000000</td>\n",
       "      <td>30.000000</td>\n",
       "      <td>204.120000</td>\n",
       "    </tr>\n",
       "  </tbody>\n",
       "</table>\n",
       "</div>"
      ],
      "text/plain": [
       "       Height_(cm)  Smoking_History  Alcohol_Consumption  Weight_(kg)\n",
       "count   1000.00000      1000.000000          1000.000000  1000.000000\n",
       "mean     170.49700         0.409000             4.799000    83.008940\n",
       "std       10.82632         0.491895             7.996032    21.555014\n",
       "min      130.00000         0.000000             0.000000    38.560000\n",
       "25%      163.00000         0.000000             0.000000    68.040000\n",
       "50%      170.00000         0.000000             1.000000    81.650000\n",
       "75%      178.00000         1.000000             5.000000    93.102500\n",
       "max      241.00000         1.000000            30.000000   204.120000"
      ]
     },
     "execution_count": 19,
     "metadata": {},
     "output_type": "execute_result"
    }
   ],
   "source": [
    "data.describe()"
   ]
  },
  {
   "cell_type": "markdown",
   "id": "1a7be147",
   "metadata": {},
   "source": [
    "Calculating the beta coefficient vector according to the full observations in the new database:"
   ]
  },
  {
   "cell_type": "code",
   "execution_count": 20,
   "id": "ca97d770",
   "metadata": {},
   "outputs": [
    {
     "name": "stdout",
     "output_type": "stream",
     "text": [
      "Estimator fot beta 0 :  -64.732\n",
      "95% Confidence interval for beta0 : [ -84.545 ,  -44.919 ]\n",
      "-------------------------------------------------------------------------\n",
      "Estimator fot beta 1 :  0.821\n",
      "95% Confidence interval for beta1 : [ 0.703 ,  0.939 ]\n",
      "-------------------------------------------------------------------------\n",
      "Estimator fot beta 2 :  1.58\n",
      "95% Confidence interval for beta2 : [ -0.848 ,  4.008 ]\n",
      "-------------------------------------------------------------------------\n",
      "Estimator fot beta 3 :  -0.09\n",
      "95% Confidence interval for beta3 : [ -0.237 ,  0.058 ]\n",
      "-------------------------------------------------------------------------\n"
     ]
    }
   ],
   "source": [
    "X1 = data1_full[[\"Height_(cm)\",\"Smoking_History\",\"Alcohol_Consumption\"]].to_numpy()\n",
    "X1 = np.c_[np.ones(X1.shape[0]), X1]\n",
    "y1 = data1_full[\"Weight_(kg)\"].to_numpy()\n",
    "beta_coef_full_obs = calc_beta_coef(X1,y1)"
   ]
  },
  {
   "cell_type": "markdown",
   "id": "315a9b29",
   "metadata": {},
   "source": [
    "Complete the missing values using regression imputation:<br>"
   ]
  },
  {
   "cell_type": "code",
   "execution_count": 21,
   "id": "2bcfb83d",
   "metadata": {},
   "outputs": [
    {
     "data": {
      "text/html": [
       "<div>\n",
       "<style scoped>\n",
       "    .dataframe tbody tr th:only-of-type {\n",
       "        vertical-align: middle;\n",
       "    }\n",
       "\n",
       "    .dataframe tbody tr th {\n",
       "        vertical-align: top;\n",
       "    }\n",
       "\n",
       "    .dataframe thead th {\n",
       "        text-align: right;\n",
       "    }\n",
       "</style>\n",
       "<table border=\"1\" class=\"dataframe\">\n",
       "  <thead>\n",
       "    <tr style=\"text-align: right;\">\n",
       "      <th></th>\n",
       "      <th>Height_(cm)</th>\n",
       "      <th>Smoking_History</th>\n",
       "      <th>Alcohol_Consumption</th>\n",
       "      <th>Weight_(kg)</th>\n",
       "    </tr>\n",
       "  </thead>\n",
       "  <tbody>\n",
       "    <tr>\n",
       "      <th>147502</th>\n",
       "      <td>175</td>\n",
       "      <td>1</td>\n",
       "      <td>0</td>\n",
       "      <td>80.555096</td>\n",
       "    </tr>\n",
       "    <tr>\n",
       "      <th>228942</th>\n",
       "      <td>183</td>\n",
       "      <td>0</td>\n",
       "      <td>8</td>\n",
       "      <td>84.827978</td>\n",
       "    </tr>\n",
       "    <tr>\n",
       "      <th>29135</th>\n",
       "      <td>193</td>\n",
       "      <td>1</td>\n",
       "      <td>0</td>\n",
       "      <td>176.900000</td>\n",
       "    </tr>\n",
       "    <tr>\n",
       "      <th>122334</th>\n",
       "      <td>180</td>\n",
       "      <td>1</td>\n",
       "      <td>0</td>\n",
       "      <td>84.661019</td>\n",
       "    </tr>\n",
       "    <tr>\n",
       "      <th>233629</th>\n",
       "      <td>170</td>\n",
       "      <td>1</td>\n",
       "      <td>0</td>\n",
       "      <td>170.100000</td>\n",
       "    </tr>\n",
       "    <tr>\n",
       "      <th>...</th>\n",
       "      <td>...</td>\n",
       "      <td>...</td>\n",
       "      <td>...</td>\n",
       "      <td>...</td>\n",
       "    </tr>\n",
       "    <tr>\n",
       "      <th>21748</th>\n",
       "      <td>160</td>\n",
       "      <td>0</td>\n",
       "      <td>0</td>\n",
       "      <td>44.000000</td>\n",
       "    </tr>\n",
       "    <tr>\n",
       "      <th>33433</th>\n",
       "      <td>150</td>\n",
       "      <td>1</td>\n",
       "      <td>0</td>\n",
       "      <td>43.090000</td>\n",
       "    </tr>\n",
       "    <tr>\n",
       "      <th>166571</th>\n",
       "      <td>155</td>\n",
       "      <td>1</td>\n",
       "      <td>0</td>\n",
       "      <td>40.820000</td>\n",
       "    </tr>\n",
       "    <tr>\n",
       "      <th>225117</th>\n",
       "      <td>165</td>\n",
       "      <td>1</td>\n",
       "      <td>0</td>\n",
       "      <td>38.560000</td>\n",
       "    </tr>\n",
       "    <tr>\n",
       "      <th>235233</th>\n",
       "      <td>160</td>\n",
       "      <td>1</td>\n",
       "      <td>0</td>\n",
       "      <td>38.560000</td>\n",
       "    </tr>\n",
       "  </tbody>\n",
       "</table>\n",
       "<p>1000 rows × 4 columns</p>\n",
       "</div>"
      ],
      "text/plain": [
       "        Height_(cm)  Smoking_History  Alcohol_Consumption  Weight_(kg)\n",
       "147502          175                1                    0    80.555096\n",
       "228942          183                0                    8    84.827978\n",
       "29135           193                1                    0   176.900000\n",
       "122334          180                1                    0    84.661019\n",
       "233629          170                1                    0   170.100000\n",
       "...             ...              ...                  ...          ...\n",
       "21748           160                0                    0    44.000000\n",
       "33433           150                1                    0    43.090000\n",
       "166571          155                1                    0    40.820000\n",
       "225117          165                1                    0    38.560000\n",
       "235233          160                1                    0    38.560000\n",
       "\n",
       "[1000 rows x 4 columns]"
      ]
     },
     "execution_count": 21,
     "metadata": {},
     "output_type": "execute_result"
    }
   ],
   "source": [
    "for i in range (data1.shape[0]):\n",
    "     if pd.isna(data1.iloc[i][3]):\n",
    "        data1.iloc[i,3] = beta_coef_full_obs[0]+beta_coef_full_obs[1]* data1.iloc[i,0]+beta_coef_full_obs[2]* data1.iloc[i,1]+beta_coef_full_obs[3]* data1.iloc[i,2]\n",
    "data1"
   ]
  },
  {
   "cell_type": "code",
   "execution_count": 22,
   "id": "b6bded18",
   "metadata": {},
   "outputs": [
    {
     "name": "stdout",
     "output_type": "stream",
     "text": [
      "<class 'pandas.core.frame.DataFrame'>\n",
      "Int64Index: 1000 entries, 147502 to 235233\n",
      "Data columns (total 4 columns):\n",
      " #   Column               Non-Null Count  Dtype  \n",
      "---  ------               --------------  -----  \n",
      " 0   Height_(cm)          1000 non-null   int64  \n",
      " 1   Smoking_History      1000 non-null   int64  \n",
      " 2   Alcohol_Consumption  1000 non-null   int64  \n",
      " 3   Weight_(kg)          1000 non-null   float64\n",
      "dtypes: float64(1), int64(3)\n",
      "memory usage: 39.1 KB\n"
     ]
    }
   ],
   "source": [
    "data1.info()"
   ]
  },
  {
   "cell_type": "markdown",
   "id": "3d40bebe",
   "metadata": {},
   "source": [
    "Multiple imputation:"
   ]
  },
  {
   "cell_type": "code",
   "execution_count": 23,
   "id": "1712b9d8",
   "metadata": {},
   "outputs": [
    {
     "data": {
      "text/html": [
       "<div>\n",
       "<style scoped>\n",
       "    .dataframe tbody tr th:only-of-type {\n",
       "        vertical-align: middle;\n",
       "    }\n",
       "\n",
       "    .dataframe tbody tr th {\n",
       "        vertical-align: top;\n",
       "    }\n",
       "\n",
       "    .dataframe thead th {\n",
       "        text-align: right;\n",
       "    }\n",
       "</style>\n",
       "<table border=\"1\" class=\"dataframe\">\n",
       "  <thead>\n",
       "    <tr style=\"text-align: right;\">\n",
       "      <th></th>\n",
       "      <th>Height_(cm)</th>\n",
       "      <th>Smoking_History</th>\n",
       "      <th>Alcohol_Consumption</th>\n",
       "      <th>Weight_(kg)</th>\n",
       "    </tr>\n",
       "  </thead>\n",
       "  <tbody>\n",
       "    <tr>\n",
       "      <th>147502</th>\n",
       "      <td>175</td>\n",
       "      <td>1</td>\n",
       "      <td>0</td>\n",
       "      <td>62.327339</td>\n",
       "    </tr>\n",
       "    <tr>\n",
       "      <th>228942</th>\n",
       "      <td>183</td>\n",
       "      <td>0</td>\n",
       "      <td>8</td>\n",
       "      <td>87.551213</td>\n",
       "    </tr>\n",
       "    <tr>\n",
       "      <th>29135</th>\n",
       "      <td>193</td>\n",
       "      <td>1</td>\n",
       "      <td>0</td>\n",
       "      <td>176.900000</td>\n",
       "    </tr>\n",
       "    <tr>\n",
       "      <th>122334</th>\n",
       "      <td>180</td>\n",
       "      <td>1</td>\n",
       "      <td>0</td>\n",
       "      <td>76.532607</td>\n",
       "    </tr>\n",
       "    <tr>\n",
       "      <th>233629</th>\n",
       "      <td>170</td>\n",
       "      <td>1</td>\n",
       "      <td>0</td>\n",
       "      <td>170.100000</td>\n",
       "    </tr>\n",
       "    <tr>\n",
       "      <th>...</th>\n",
       "      <td>...</td>\n",
       "      <td>...</td>\n",
       "      <td>...</td>\n",
       "      <td>...</td>\n",
       "    </tr>\n",
       "    <tr>\n",
       "      <th>21748</th>\n",
       "      <td>160</td>\n",
       "      <td>0</td>\n",
       "      <td>0</td>\n",
       "      <td>44.000000</td>\n",
       "    </tr>\n",
       "    <tr>\n",
       "      <th>33433</th>\n",
       "      <td>150</td>\n",
       "      <td>1</td>\n",
       "      <td>0</td>\n",
       "      <td>43.090000</td>\n",
       "    </tr>\n",
       "    <tr>\n",
       "      <th>166571</th>\n",
       "      <td>155</td>\n",
       "      <td>1</td>\n",
       "      <td>0</td>\n",
       "      <td>40.820000</td>\n",
       "    </tr>\n",
       "    <tr>\n",
       "      <th>225117</th>\n",
       "      <td>165</td>\n",
       "      <td>1</td>\n",
       "      <td>0</td>\n",
       "      <td>38.560000</td>\n",
       "    </tr>\n",
       "    <tr>\n",
       "      <th>235233</th>\n",
       "      <td>160</td>\n",
       "      <td>1</td>\n",
       "      <td>0</td>\n",
       "      <td>38.560000</td>\n",
       "    </tr>\n",
       "  </tbody>\n",
       "</table>\n",
       "<p>1000 rows × 4 columns</p>\n",
       "</div>"
      ],
      "text/plain": [
       "        Height_(cm)  Smoking_History  Alcohol_Consumption  Weight_(kg)\n",
       "147502          175                1                    0    62.327339\n",
       "228942          183                0                    8    87.551213\n",
       "29135           193                1                    0   176.900000\n",
       "122334          180                1                    0    76.532607\n",
       "233629          170                1                    0   170.100000\n",
       "...             ...              ...                  ...          ...\n",
       "21748           160                0                    0    44.000000\n",
       "33433           150                1                    0    43.090000\n",
       "166571          155                1                    0    40.820000\n",
       "225117          165                1                    0    38.560000\n",
       "235233          160                1                    0    38.560000\n",
       "\n",
       "[1000 rows x 4 columns]"
      ]
     },
     "execution_count": 23,
     "metadata": {},
     "output_type": "execute_result"
    }
   ],
   "source": [
    "data3 = data_nan.copy()\n",
    "M = 500\n",
    "sigma_square = data1[\"Weight_(kg)\"].to_numpy().var()\n",
    "weight_new = np.zeros(data3.shape[0])\n",
    "betas = np.zeros((M, data3.shape[1]))\n",
    "varss = np.zeros((M, data3.shape[1]))\n",
    "\n",
    "def linear_reg(X,y):\n",
    "    X = np.c_[np.ones(X.shape[0]), X]\n",
    "    XTX_inverse = np.linalg.inv(np.matmul(X.T, X))\n",
    "    XTy = np.matmul(X.T, y)\n",
    "    n = X.shape[0]\n",
    "    p=4\n",
    "    beta_estimate = np.matmul(XTX_inverse,XTy)\n",
    "    return beta_estimate, XTX_inverse\n",
    "    \n",
    "\n",
    "for m in range (M):\n",
    "    for i in range(data3.shape[0]):\n",
    "        row = data3.iloc[i].to_numpy()\n",
    "        if pd.isna(row[3]):\n",
    "            mu = beta_coef_full_obs[0]+beta_coef_full_obs[1]*row[0]+beta_coef_full_obs[2]*row[1]+ beta_coef_full_obs[3]*row[2]\n",
    "            weight_new[i] += np.random.normal(mu, sigma_square)\n",
    "        else:\n",
    "            weight_new[i] += row[3]\n",
    "    y_curr = (weight_new/(m+1))\n",
    "    X_curr = data3[[\"Height_(cm)\",\"Smoking_History\",\"Alcohol_Consumption\"]].to_numpy()\n",
    "    betas[m], C_curr = linear_reg(X_curr,y_curr)\n",
    "    beta_curr = np.array(betas[m])\n",
    "    X_curr = np.c_[np.ones(X_curr.shape[0]), X_curr]\n",
    "    y_estimate_curr = np.matmul(X_curr,beta_curr )\n",
    "    n = X_curr.shape[0]\n",
    "    p=4\n",
    "    e_curr = y_curr - y_estimate_curr\n",
    "    noise_var_curr = 1/(n-p)*sum(i**2 for i in e_curr)\n",
    "    \n",
    "    ses = []\n",
    "    for j in range (betas[m].shape[0]):\n",
    "        se_s = (noise_var_curr*C_curr[j][j])\n",
    "        ses.append(se_s)\n",
    "    varss[m] = ses\n",
    "        \n",
    "weight_new = weight_new/M\n",
    "\n",
    "data3[\"Weight_(kg)\"] = weight_new\n",
    "data3"
   ]
  },
  {
   "cell_type": "code",
   "execution_count": 24,
   "id": "219d04b7",
   "metadata": {},
   "outputs": [
    {
     "data": {
      "text/plain": [
       "array([-5.82200628e+01,  7.81826753e-01,  1.02183191e+00, -4.78001327e-02])"
      ]
     },
     "execution_count": 24,
     "metadata": {},
     "output_type": "execute_result"
    }
   ],
   "source": [
    "beta_estimate_C, c = linear_reg(data3[[\"Height_(cm)\",\"Smoking_History\",\"Alcohol_Consumption\"]].to_numpy(),weight_new)\n",
    "beta_estimate_C"
   ]
  },
  {
   "cell_type": "markdown",
   "id": "1821c9ca",
   "metadata": {},
   "source": [
    "Calculating the estimator to the s.e according to Robin's formula:"
   ]
  },
  {
   "cell_type": "code",
   "execution_count": 25,
   "id": "7048e29c",
   "metadata": {},
   "outputs": [
    {
     "data": {
      "text/plain": [
       "array([11.17592042,  0.0646105 ,  1.48333726,  0.10112337])"
      ]
     },
     "execution_count": 25,
     "metadata": {},
     "output_type": "execute_result"
    }
   ],
   "source": [
    "beta_estimate_se =np.zeros((beta_estimate_C.shape[0]))\n",
    "\n",
    "for b in range (beta_estimate_C.shape[0]):\n",
    "    left1 = 0\n",
    "    right1 = 0\n",
    "    for m in range(M):\n",
    "        left1 += varss[m][b]\n",
    "        right1 += (betas[m][b]-beta_estimate_C[b])**2\n",
    "    left1 = (1/M)*left1\n",
    "    right1 = ((M+1)/(M*(M-1)))*right1\n",
    "    se = (left1+right1)**0.5\n",
    "    beta_estimate_se[b] = se\n",
    "beta_estimate_se"
   ]
  },
  {
   "cell_type": "code",
   "execution_count": 26,
   "id": "dc3f047a",
   "metadata": {},
   "outputs": [
    {
     "name": "stdout",
     "output_type": "stream",
     "text": [
      "Estimator fot beta 0 -58.22\n",
      "Confidence interval 95% for beta0 : [ -80.124 , -36.316 ]\n",
      "-----------------------------------------------------------------------------------------\n",
      "Estimator fot beta 1 0.782\n",
      "Confidence interval 95% for beta1 : [ 0.655 , 0.908 ]\n",
      "-----------------------------------------------------------------------------------------\n",
      "Estimator fot beta 2 1.022\n",
      "Confidence interval 95% for beta2 : [ -1.885 , 3.929 ]\n",
      "-----------------------------------------------------------------------------------------\n",
      "Estimator fot beta 3 -0.048\n",
      "Confidence interval 95% for beta3 : [ -0.246 , 0.15 ]\n",
      "-----------------------------------------------------------------------------------------\n"
     ]
    }
   ],
   "source": [
    "beta_CI_dict_D = {key: None for key in beta_index}\n",
    "z = stats.norm.ppf(0.975)\n",
    "for i in range (beta_estimate_C.shape[0]):\n",
    "    lower = beta_estimate_C[i]-(z*beta_estimate_se[i])\n",
    "    upper = beta_estimate_C[i]+(z*beta_estimate_se[i])\n",
    "    print(\"Estimator fot beta\", i, r(beta_estimate_C[i]))\n",
    "    print(\"Confidence interval 95% for beta\"+ str(i)+ \" : [\",r(lower), \",\",r(upper),\"]\")\n",
    "    beta_CI_dict_D[i]=[lower, upper]\n",
    "    print(\"-----------------------------------------------------------------------------------------\")"
   ]
  },
  {
   "cell_type": "markdown",
   "id": "16f27b26",
   "metadata": {},
   "source": [
    "Calculating $P(R=1|X_1,...,X_k)$ where $X_1,...,X_k$ are the explanatory variables, and $R$ is the missing variable (binary):"
   ]
  },
  {
   "cell_type": "code",
   "execution_count": 27,
   "id": "3165d441",
   "metadata": {},
   "outputs": [
    {
     "data": {
      "text/html": [
       "<div>\n",
       "<style scoped>\n",
       "    .dataframe tbody tr th:only-of-type {\n",
       "        vertical-align: middle;\n",
       "    }\n",
       "\n",
       "    .dataframe tbody tr th {\n",
       "        vertical-align: top;\n",
       "    }\n",
       "\n",
       "    .dataframe thead th {\n",
       "        text-align: right;\n",
       "    }\n",
       "</style>\n",
       "<table border=\"1\" class=\"dataframe\">\n",
       "  <thead>\n",
       "    <tr style=\"text-align: right;\">\n",
       "      <th></th>\n",
       "      <th>Height_(cm)</th>\n",
       "      <th>Smoking_History</th>\n",
       "      <th>Alcohol_Consumption</th>\n",
       "      <th>Weight_(kg)</th>\n",
       "    </tr>\n",
       "  </thead>\n",
       "  <tbody>\n",
       "    <tr>\n",
       "      <th>147502</th>\n",
       "      <td>175</td>\n",
       "      <td>1</td>\n",
       "      <td>0</td>\n",
       "      <td>0</td>\n",
       "    </tr>\n",
       "    <tr>\n",
       "      <th>228942</th>\n",
       "      <td>183</td>\n",
       "      <td>0</td>\n",
       "      <td>8</td>\n",
       "      <td>0</td>\n",
       "    </tr>\n",
       "    <tr>\n",
       "      <th>29135</th>\n",
       "      <td>193</td>\n",
       "      <td>1</td>\n",
       "      <td>0</td>\n",
       "      <td>1</td>\n",
       "    </tr>\n",
       "    <tr>\n",
       "      <th>122334</th>\n",
       "      <td>180</td>\n",
       "      <td>1</td>\n",
       "      <td>0</td>\n",
       "      <td>0</td>\n",
       "    </tr>\n",
       "    <tr>\n",
       "      <th>233629</th>\n",
       "      <td>170</td>\n",
       "      <td>1</td>\n",
       "      <td>0</td>\n",
       "      <td>1</td>\n",
       "    </tr>\n",
       "    <tr>\n",
       "      <th>...</th>\n",
       "      <td>...</td>\n",
       "      <td>...</td>\n",
       "      <td>...</td>\n",
       "      <td>...</td>\n",
       "    </tr>\n",
       "    <tr>\n",
       "      <th>21748</th>\n",
       "      <td>160</td>\n",
       "      <td>0</td>\n",
       "      <td>0</td>\n",
       "      <td>1</td>\n",
       "    </tr>\n",
       "    <tr>\n",
       "      <th>33433</th>\n",
       "      <td>150</td>\n",
       "      <td>1</td>\n",
       "      <td>0</td>\n",
       "      <td>1</td>\n",
       "    </tr>\n",
       "    <tr>\n",
       "      <th>166571</th>\n",
       "      <td>155</td>\n",
       "      <td>1</td>\n",
       "      <td>0</td>\n",
       "      <td>1</td>\n",
       "    </tr>\n",
       "    <tr>\n",
       "      <th>225117</th>\n",
       "      <td>165</td>\n",
       "      <td>1</td>\n",
       "      <td>0</td>\n",
       "      <td>1</td>\n",
       "    </tr>\n",
       "    <tr>\n",
       "      <th>235233</th>\n",
       "      <td>160</td>\n",
       "      <td>1</td>\n",
       "      <td>0</td>\n",
       "      <td>1</td>\n",
       "    </tr>\n",
       "  </tbody>\n",
       "</table>\n",
       "<p>1000 rows × 4 columns</p>\n",
       "</div>"
      ],
      "text/plain": [
       "        Height_(cm)  Smoking_History  Alcohol_Consumption  Weight_(kg)\n",
       "147502          175                1                    0            0\n",
       "228942          183                0                    8            0\n",
       "29135           193                1                    0            1\n",
       "122334          180                1                    0            0\n",
       "233629          170                1                    0            1\n",
       "...             ...              ...                  ...          ...\n",
       "21748           160                0                    0            1\n",
       "33433           150                1                    0            1\n",
       "166571          155                1                    0            1\n",
       "225117          165                1                    0            1\n",
       "235233          160                1                    0            1\n",
       "\n",
       "[1000 rows x 4 columns]"
      ]
     },
     "execution_count": 27,
     "metadata": {},
     "output_type": "execute_result"
    }
   ],
   "source": [
    "data4 = data_nan.copy()\n",
    "data4[\"Weight_(kg)\"] = data4[\"Weight_(kg)\"].apply(lambda x: 1 if not pd.isnull(x) else 0)\n",
    "data4"
   ]
  },
  {
   "cell_type": "code",
   "execution_count": 28,
   "id": "60052492",
   "metadata": {},
   "outputs": [
    {
     "name": "stdout",
     "output_type": "stream",
     "text": [
      "Optimization terminated successfully.\n",
      "         Current function value: 0.652216\n",
      "         Iterations 5\n",
      "const    8.624486\n",
      "x1      -0.048539\n",
      "x2      -0.284740\n",
      "x3       0.009313\n",
      "dtype: float64\n",
      "\n"
     ]
    }
   ],
   "source": [
    "import statsmodels.api as stm\n",
    "X_lr = data4[[\"Height_(cm)\",\"Smoking_History\",\"Alcohol_Consumption\"]].to_numpy()\n",
    "X_lr = np.c_[np.ones(X_lr.shape[0]), X_lr]\n",
    "y_lr = data4[\"Weight_(kg)\"]\n",
    "reg = stm.Logit(y_lr,X_lr).fit()\n",
    "print(reg.params)\n",
    "print()\n",
    "lr_params = reg.params.to_numpy()\n",
    "pi_W = np.zeros((X_lr.shape[0]))\n",
    "\n",
    "for i in range (X_lr.shape[0]):\n",
    "    row = X_lr[i]\n",
    "    x = lr_params[0]+lr_params[1]*row[1]+lr_params[2]*row[2]+lr_params[3]*row[3]\n",
    "    numerator = np.exp(x)\n",
    "    denominator = 1+np.exp(x)\n",
    "    pi_W[i] = numerator/denominator\n"
   ]
  }
 ],
 "metadata": {
  "kernelspec": {
   "display_name": "Python 3 (ipykernel)",
   "language": "python",
   "name": "python3"
  },
  "language_info": {
   "codemirror_mode": {
    "name": "ipython",
    "version": 3
   },
   "file_extension": ".py",
   "mimetype": "text/x-python",
   "name": "python",
   "nbconvert_exporter": "python",
   "pygments_lexer": "ipython3",
   "version": "3.9.12"
  }
 },
 "nbformat": 4,
 "nbformat_minor": 5
}
