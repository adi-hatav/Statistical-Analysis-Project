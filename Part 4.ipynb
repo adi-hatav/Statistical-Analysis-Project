{
 "cells": [
  {
   "cell_type": "markdown",
   "id": "ded41db6",
   "metadata": {},
   "source": [
    "# Statistical Analysis Project\n",
    "## Part 4 -  Bootstrap\n",
    "#### Adi Hatav and Tamar Dufour Dror"
   ]
  },
  {
   "cell_type": "code",
   "execution_count": 1,
   "id": "b4af3d32",
   "metadata": {},
   "outputs": [],
   "source": [
    "import pandas as pd\n",
    "import seaborn as sns\n",
    "import matplotlib.pyplot as plt\n",
    "import numpy as np\n",
    "from scipy import stats\n",
    "import statistics\n",
    "import random"
   ]
  },
  {
   "cell_type": "markdown",
   "id": "4d479b2c",
   "metadata": {},
   "source": [
    "### Linear Regression\n",
    "\n",
    "#### In this section, we will analyze the effect of depression, fried potato consumption and BMI on the respondents green vegetables consumption (as in part 3)\n"
   ]
  },
  {
   "cell_type": "code",
   "execution_count": 2,
   "id": "7f6a8bb8",
   "metadata": {},
   "outputs": [],
   "source": [
    "df = pd.read_csv('CVD_cleaned.csv')\n",
    "df[\"Depression\"] = df[\"Depression\"].replace({'No':-1, 'Yes':1})\n",
    "np.random.seed(101)\n",
    "df_sample = df.sample(n=200)\n",
    "\n",
    "def r(float):\n",
    "    return(round(float, 3))\n",
    "\n",
    "def linear_reg(df):\n",
    "    X = df[[\"FriedPotato_Consumption\", \"BMI\", \"Depression\"]].to_numpy()\n",
    "    X = np.c_[np.ones(X.shape[0]), X]\n",
    "    XTX_inverse = np.linalg.inv(np.matmul(X.T, X))\n",
    "    y = df[\"Green_Vegetables_Consumption\"].to_numpy()\n",
    "    XTy = np.matmul(X.T, y)\n",
    "    return (np.matmul(XTX_inverse,XTy))\n",
    "    "
   ]
  },
  {
   "cell_type": "markdown",
   "id": "8e9d4994",
   "metadata": {},
   "source": [
    "#### Calculating confidence intervals for regression coefficients:<br>\n",
    "Beta 1 is the coefficient of the fried potato consumption variable.<br>\n",
    "Beta 2 is the coefficient of the BMI variable.<br>\n",
    "Beta 3 is the coefficient of the depression variable."
   ]
  },
  {
   "cell_type": "code",
   "execution_count": 3,
   "id": "d56b9e9a",
   "metadata": {},
   "outputs": [
    {
     "name": "stdout",
     "output_type": "stream",
     "text": [
      "Beta 0:  20.817\n",
      "Beta 1:  0.015\n",
      "Beta 2:  -0.26\n",
      "Beta 3:  -1.484\n"
     ]
    }
   ],
   "source": [
    "beta_estimate = linear_reg(df_sample)\n",
    "\n",
    "print(\"Beta 0: \",r(beta_estimate[0]))\n",
    "print(\"Beta 1: \", r(beta_estimate[1]))\n",
    "print(\"Beta 2: \", r(beta_estimate[2]))\n",
    "print(\"Beta 3: \", r(beta_estimate[3]))"
   ]
  },
  {
   "cell_type": "markdown",
   "id": "a58f8008",
   "metadata": {},
   "source": [
    "confidence intervals based on the normal normal - approximatiom,when the estimator to the s.e based on the variance matrix:<br>\n",
    "$[\\hat{\\beta_j}-z_{\\alpha/2}\\hat{s.e}(\\hat{\\beta_j}),\\hat{\\beta_j}+z_{\\alpha/2}\\hat{s.e}(\\hat{\\beta_j})]$<br>\n",
    "$\\hat{s.e}(\\hat{\\beta_j})  = \\sqrt{\\hat{\\sigma_{\\epsilon}}^2C_{jj}}$"
   ]
  },
  {
   "cell_type": "code",
   "execution_count": 4,
   "id": "324f3a81",
   "metadata": {},
   "outputs": [
    {
     "name": "stdout",
     "output_type": "stream",
     "text": [
      "95% confidence interval for beta 0  : [ 20.57 , 21.064 ]\n",
      "length:  0.495\n",
      "95% confidence interval for beta 1  : [ 0.009 , 0.021 ]\n",
      "length:  0.012\n",
      "95% confidence interval for beta 2  : [ -0.268 , -0.252 ]\n",
      "length:  0.016\n",
      "95% confidence interval for beta 3  : [ -1.55 , -1.417 ]\n",
      "length:  0.132\n"
     ]
    }
   ],
   "source": [
    "X = df[[\"FriedPotato_Consumption\", \"BMI\", \"Depression\"]].to_numpy()\n",
    "X = np.c_[np.ones(X.shape[0]), X]\n",
    "XTX_inverse = np.linalg.inv(np.matmul(X.T, X))\n",
    "y = df[\"Green_Vegetables_Consumption\"].to_numpy()\n",
    "\n",
    "y_estimate = np.matmul(X, beta_estimate)\n",
    "n = y.shape[0]\n",
    "p = 4\n",
    "e = y - y_estimate\n",
    "noise_var = 1/(n-p)*sum(i**2 for i in e)\n",
    "C = XTX_inverse\n",
    "z_0975 = z = stats.norm.ppf(0.975)\n",
    "\n",
    "for i in range(p):\n",
    "    lower = beta_estimate[i]-z*(noise_var*C[i][i])**0.5\n",
    "    upper = beta_estimate[i]+z*(noise_var*C[i][i])**0.5\n",
    "    print(\"95% confidence interval for beta\",i,\" : [\",r(lower), \",\",r(upper),\"]\")\n",
    "    print(\"length: \",r(abs(upper-lower)))"
   ]
  },
  {
   "cell_type": "markdown",
   "id": "fc539ad3",
   "metadata": {},
   "source": [
    "Confidence intervals based on the normal normal - approximatiom, when the estimator to the s.e is bootstrap estimator:<br>\n",
    "$[\\hat{\\beta_j}-z_{\\alpha/2}\\hat{s.e}_{boot}(\\hat{\\beta_j}),\\hat{\\beta_j}+z_{\\alpha/2}\\hat{s.e}_{boot}(\\hat{\\beta_j})]$<br>\n",
    "\n",
    "Bootstrap pivot confidence intervals:<br>\n",
    "$[2\\hat{\\beta_j}-\\hat{\\beta_{j,1-\\alpha/2}^{boot}}, 2\\hat{\\beta_j}-\\hat{\\beta_{j,\\alpha/2}^{boot}}]$<br>\n",
    "\n",
    "Bootstrap precentile confidence intervals:<br>\n",
    "$[\\hat{\\beta_{j,\\alpha/2}^{boot}}, \\hat{\\beta_{j,1-\\alpha/2}^{boot}}]$<br>"
   ]
  },
  {
   "cell_type": "code",
   "execution_count": 5,
   "id": "ae6d7d09",
   "metadata": {},
   "outputs": [
    {
     "name": "stdout",
     "output_type": "stream",
     "text": [
      "95% confidence interval, based on normal - approximatiom, for beta 0  : [ 10.084 ,  29.285 ]\n",
      "length:  19.2\n",
      "95% confidence interval, based on pivot, for beta 0  : [ 6.842 ,  27.269 ]\n",
      "length:  20.4272266480371\n",
      "95% confidence interval, based on quantiles, for beta 0  : [ 12.1 ,  32.527 ]\n",
      "length:  20.427\n",
      "--------------------------------------------------------------------------------------------------------------\n",
      "95% confidence interval, based on normal - approximatiom, for beta 1  : [ -0.176 ,  0.271 ]\n",
      "length:  0.446\n",
      "95% confidence interval, based on pivot, for beta 1  : [ -0.148 ,  0.293 ]\n",
      "length:  0.44117880837499013\n",
      "95% confidence interval, based on quantiles, for beta 1  : [ -0.198 ,  0.243 ]\n",
      "length:  0.441\n",
      "--------------------------------------------------------------------------------------------------------------\n",
      "95% confidence interval, based on normal - approximatiom, for beta 2  : [ -0.59 ,  0.04 ]\n",
      "length:  0.63\n",
      "95% confidence interval, based on pivot, for beta 2  : [ -0.574 ,  0.058 ]\n",
      "length:  0.6312071484325475\n",
      "95% confidence interval, based on quantiles, for beta 2  : [ -0.608 ,  0.023 ]\n",
      "length:  0.631\n",
      "--------------------------------------------------------------------------------------------------------------\n",
      "95% confidence interval, based on normal - approximatiom, for beta 3  : [ -5.439 ,  -1.063 ]\n",
      "length:  4.376\n",
      "95% confidence interval, based on pivot, for beta 3  : [ -7.211 ,  -2.802 ]\n",
      "length:  4.409598431321662\n",
      "95% confidence interval, based on quantiles, for beta 3  : [ -3.7 ,  0.71 ]\n",
      "length:  4.41\n",
      "--------------------------------------------------------------------------------------------------------------\n"
     ]
    }
   ],
   "source": [
    "B = 400\n",
    "beta_list = [0,1,2,3]\n",
    "beta_boots = {key: [] for key in beta_list}\n",
    "\n",
    "for i in range(B):\n",
    "    boot_sample = df_sample.sample(n=200, replace=True).copy()\n",
    "    beta_estimate = linear_reg(boot_sample)\n",
    "    for j in range (p):\n",
    "        beta_boots[j].append(beta_estimate[j])\n",
    "\n",
    "for i in range(p):\n",
    "    std = np.array(beta_boots[i]).std()\n",
    "    upper_noraml = beta_estimate[i]+z*(std)\n",
    "    lower_normal = beta_estimate[i]-z*(std)\n",
    "    print(\"95% confidence interval, based on normal - approximatiom, for beta\",i,\" : [\", r(lower_normal), \", \", r(upper_noraml),\"]\")\n",
    "    print(\"length: \",r(abs(upper_noraml-lower_normal)))\n",
    "    \n",
    "    beta_boots_i = np.array(beta_boots[i])\n",
    "    beta_boots_q0975 = np.quantile(beta_boots_i, q=0.975)\n",
    "    beta_boots_q0025 = np.quantile(beta_boots_i, q=0.025)\n",
    "    upper_pivot = 2*beta_estimate[i] - beta_boots_q0025\n",
    "    lower_pivot = 2*beta_estimate[i] - beta_boots_q0975\n",
    "    print(\"95% confidence interval, based on pivot, for beta\",i,\" : [\", r(lower_pivot), \", \", r(upper_pivot),\"]\")\n",
    "    print(\"length: \",abs(upper_pivot-lower_pivot))\n",
    "    \n",
    "    print(\"95% confidence interval, based on quantiles, for beta\",i,\" : [\", r(beta_boots_q0025), \", \", r(beta_boots_q0975),\"]\")\n",
    "    print(\"length: \",r(abs(beta_boots_q0975-beta_boots_q0025)))\n",
    "    \n",
    "    print(\"--------------------------------------------------------------------------------------------------------------\")\n",
    "\n",
    "    \n",
    "\n"
   ]
  },
  {
   "cell_type": "markdown",
   "id": "a49223d3",
   "metadata": {},
   "source": [
    "### Tests\n",
    "#### In this section, we will analyze the effect of depression on the respondents weight, among women aged 18-64.\n",
    "Let $F_X(x)$ be the CDF of the weight of women who not reported being depressed, $\\mathbb{E}[X] = \\mu_1$, <br> \n",
    "and let $F_Y(y)$ be the CDF of the weight of women who reported being depressed,  $\\mathbb{E}[Y] = \\mu_2$. <br>\n",
    "$\\delta = \\mu_2-\\mu_1$ (MLE)\n",
    "\n",
    "$H_0: F_X(x) = F_Y(y)$<br>\n",
    "$H_1: F_X(x) \\prec F_Y(y)$"
   ]
  },
  {
   "cell_type": "code",
   "execution_count": 6,
   "id": "1a2ee53a",
   "metadata": {},
   "outputs": [],
   "source": [
    "np.random.seed(102)\n",
    "ages_catrgories = ['18-24', '25-29', '30-34', '35-39', '40-44', '45-49', '50-54', '55-59', '60-64']\n",
    "women_df = df[df[\"Age_Category\"].isin(ages_catrgories)]\n",
    "women_df = women_df[women_df[\"Sex\"]==\"Female\"]\n",
    "sample = women_df.sample(n=200)"
   ]
  },
  {
   "cell_type": "code",
   "execution_count": 7,
   "id": "a69d80c1",
   "metadata": {},
   "outputs": [
    {
     "name": "stdout",
     "output_type": "stream",
     "text": [
      "Estimator for mu 1:  75.417\n",
      "Estimator for mu 2:  85.922\n",
      "Estimator for delta:  10.505\n"
     ]
    }
   ],
   "source": [
    "smaple_d = sample[sample[\"Depression\"]==1]\n",
    "smaple_nd = sample[sample[\"Depression\"]==-1]\n",
    "mu_1_est = smaple_nd[\"Weight_(kg)\"].mean()\n",
    "mu_2_est = smaple_d[\"Weight_(kg)\"].mean()\n",
    "delta_est = mu_2_est-mu_1_est\n",
    "print(\"Estimator for mu 1: \",r(mu_1_est))\n",
    "print(\"Estimator for mu 2: \",r(mu_2_est))\n",
    "print(\"Estimator for delta: \",r(delta_est))"
   ]
  },
  {
   "cell_type": "code",
   "execution_count": 8,
   "id": "6e5a74fa",
   "metadata": {},
   "outputs": [
    {
     "name": "stdout",
     "output_type": "stream",
     "text": [
      "95% confidence interval, based on precentiles, for delta : [ 6.112 , 14.947 ]\n"
     ]
    }
   ],
   "source": [
    "N = 1000\n",
    "delta_boot = []\n",
    "for i in range(N):\n",
    "    boot_d = smaple_d.sample(n=200, replace=True)[\"Weight_(kg)\"].mean()\n",
    "    boot_nd = smaple_nd.sample(n=200, replace=True)[\"Weight_(kg)\"].mean()\n",
    "    diff = boot_d - boot_nd\n",
    "    delta_boot.append(diff)\n",
    "    \n",
    "delta_boot = np.array(delta_boot)\n",
    "delta_boot_q0975 = np.quantile(delta_boot, q=0.975)\n",
    "delta_boots_q0025 = np.quantile(delta_boot, q=0.025)\n",
    "\n",
    "print(\"95% confidence interval, based on precentiles, for delta\"\" : [\", r(delta_boots_q0025), \",\", r(delta_boot_q0975),\"]\")"
   ]
  },
  {
   "cell_type": "code",
   "execution_count": 9,
   "id": "367130ab",
   "metadata": {},
   "outputs": [
    {
     "name": "stdout",
     "output_type": "stream",
     "text": [
      "Estimator for delta according to the full database:  6.441\n"
     ]
    }
   ],
   "source": [
    "deprresed_mean = women_df[women_df[\"Depression\"]==1][\"Weight_(kg)\"].mean()\n",
    "non_deprresed_mean = women_df[women_df[\"Depression\"]==-1][\"Weight_(kg)\"].mean()\n",
    "delta_all = deprresed_mean - non_deprresed_mean\n",
    "print(\"Estimator for delta according to the full database: \", r(delta_all))\n"
   ]
  },
  {
   "cell_type": "markdown",
   "id": "89309ae0",
   "metadata": {},
   "source": [
    "Wald's test:<br>\n",
    "$H_0:\\delta = 0$<br>\n",
    "$H_1:\\delta>0$<br>\n",
    "$T.S: T = \\frac{\\bar{Y_m}-\\bar{X_n}}{\\sqrt{\\frac{\\sigma_X^2}{n}+\\frac{\\sigma_Y^2}{m}}}$<br>\n",
    "$R.R: T>z_{\\alpha/2}$"
   ]
  },
  {
   "cell_type": "code",
   "execution_count": 10,
   "id": "f4021bf0",
   "metadata": {},
   "outputs": [
    {
     "name": "stdout",
     "output_type": "stream",
     "text": [
      "Wald's statistic:  42.302\n",
      "Recject H0:  True\n"
     ]
    }
   ],
   "source": [
    "deprresed_var = women_df[women_df[\"Depression\"]==1][\"Weight_(kg)\"].var()\n",
    "n = women_df[women_df[\"Depression\"]==1][\"Weight_(kg)\"].shape[0]\n",
    "non_deprresed_var = women_df[women_df[\"Depression\"]==-1][\"Weight_(kg)\"].var()\n",
    "m = women_df[women_df[\"Depression\"]==-1][\"Weight_(kg)\"].shape[0]\n",
    "\n",
    "T = (deprresed_mean - non_deprresed_mean)/((deprresed_var/n)+(non_deprresed_var/m))**0.5\n",
    "z = stats.norm.ppf(0.025)\n",
    "\n",
    "print(\"Wald's statistic: \", r(T))\n",
    "rejection = (T>z)\n",
    "print(\"Recject H0: \" , rejection)"
   ]
  },
  {
   "cell_type": "markdown",
   "id": "e46a7bd8",
   "metadata": {},
   "source": [
    "Permutation test:<br>\n",
    "$H_0: F_X(x) = F_Y(y)$<br>\n",
    "$H_1: F_X(x) \\prec F_Y(y)$<br>\n",
    "$T.S: T =\\bar{Y_m}-\\bar{X_n}$<br>\n",
    "$p-value : P_0(T>t_{obs})$<br>\n",
    "$t_{obs}$ = the observed value of the test statistic"
   ]
  },
  {
   "cell_type": "code",
   "execution_count": 11,
   "id": "c5f8c323",
   "metadata": {},
   "outputs": [
    {
     "data": {
      "text/plain": [
       "0.03"
      ]
     },
     "execution_count": 11,
     "metadata": {},
     "output_type": "execute_result"
    }
   ],
   "source": [
    "d_num = sample[sample[\"Depression\"]==1][[\"Weight_(kg)\"]].count()[0]\n",
    "T_obs = women_df[women_df[\"Depression\"]==1][\"Weight_(kg)\"].mean()- women_df[women_df[\"Depression\"]==-1][\"Weight_(kg)\"].mean()\n",
    "Indicator = 0\n",
    "for i in range(B):\n",
    "    dep_index=  random.sample(range(200), d_num)\n",
    "    nd_index = [i for i in range(200) if i not in dep_index]\n",
    "    delta = (sample.iloc[dep_index, :][[\"Weight_(kg)\"]].mean()) - (sample.iloc[nd_index, :][[\"Weight_(kg)\"]].mean())\n",
    "    if T_obs<=delta[0]:\n",
    "        Indicator+=1\n",
    "\n",
    "p_value = Indicator/B\n",
    "p_value"
   ]
  },
  {
   "cell_type": "markdown",
   "id": "2aaacfb2",
   "metadata": {},
   "source": [
    "Therefore, the null hypothesis is rejected of every  significance level above 0.03."
   ]
  },
  {
   "cell_type": "markdown",
   "id": "0038fe5b",
   "metadata": {},
   "source": [
    "Let $m_1$ be the mediam of the weight of women who not reported being depressed, <br> \n",
    "and let $m_2$ be the mediam of the weight of women who reported being depressed. <br>\n",
    "$\\delta = m_2-m_1$"
   ]
  },
  {
   "cell_type": "code",
   "execution_count": 12,
   "id": "fc0ac682",
   "metadata": {},
   "outputs": [
    {
     "name": "stdout",
     "output_type": "stream",
     "text": [
      "Estimator for the median weight of depressed woman:  77.335\n",
      "Estimator for the median weight of non-depressed woman:  72.57\n",
      "Estimator for delta:  4.765\n"
     ]
    }
   ],
   "source": [
    "d_median = smaple_d[\"Weight_(kg)\"].median()\n",
    "nd_median = smaple_nd[\"Weight_(kg)\"].median()\n",
    "delta_medians = d_median-nd_median\n",
    "print(\"Estimator for the median weight of depressed woman: \",r(d_median))\n",
    "print(\"Estimator for the median weight of non-depressed woman: \", r(nd_median))\n",
    "print(\"Estimator for delta: \", r(delta_medians))"
   ]
  },
  {
   "cell_type": "code",
   "execution_count": 13,
   "id": "005950c5",
   "metadata": {},
   "outputs": [
    {
     "name": "stdout",
     "output_type": "stream",
     "text": [
      "95% confidence interval, based on precentiles, for delta : [ 2.27 ,  12.025 ]\n"
     ]
    }
   ],
   "source": [
    "N = 1000\n",
    "delta_boot_medians = []\n",
    "for i in range(N):\n",
    "    boot_d = smaple_d.sample(n=200, replace=True)[\"Weight_(kg)\"].median()\n",
    "    boot_nd = smaple_nd.sample(n=200, replace=True)[\"Weight_(kg)\"].median()\n",
    "    diff = boot_d - boot_nd\n",
    "    delta_boot_medians.append(diff)\n",
    "    \n",
    "delta_boot_medians = np.array(delta_boot_medians)\n",
    "delta_boot_q0975 = np.quantile(delta_boot_medians, q=0.975)\n",
    "delta_boots_q0025 = np.quantile(delta_boot_medians, q=0.025)\n",
    "\n",
    "print(\"95% confidence interval, based on precentiles, for delta\"\" : [\", r(delta_boots_q0025), \", \", r(delta_boot_q0975),\"]\")"
   ]
  },
  {
   "cell_type": "code",
   "execution_count": 14,
   "id": "bebe5acb",
   "metadata": {},
   "outputs": [
    {
     "name": "stdout",
     "output_type": "stream",
     "text": [
      "Estimator for delta according to the full database: 6.441\n"
     ]
    }
   ],
   "source": [
    "deprresed_med = women_df[women_df[\"Depression\"]==1][\"Weight_(kg)\"].median()\n",
    "non_deprresed_med = women_df[women_df[\"Depression\"]==-1][\"Weight_(kg)\"].median()\n",
    "delta_all_med = deprresed_mean - non_deprresed_mean\n",
    "print(\"Estimator for delta according to the full database:\", r(delta_all_med))"
   ]
  },
  {
   "cell_type": "markdown",
   "id": "8c6b7f58",
   "metadata": {},
   "source": [
    "Permutation test:<br>\n",
    "$H_0: F_X(x) = F_Y(y)$<br>\n",
    "$H_1: F_X(x) \\prec F_Y(y)$<br>\n",
    "$T.S: T = M_y-M_x$<br>\n",
    "$R.R: p-value <\\alpha$"
   ]
  },
  {
   "cell_type": "code",
   "execution_count": 15,
   "id": "c25caa51",
   "metadata": {},
   "outputs": [
    {
     "data": {
      "text/plain": [
       "0.03"
      ]
     },
     "execution_count": 15,
     "metadata": {},
     "output_type": "execute_result"
    }
   ],
   "source": [
    "d_num = sample[sample[\"Depression\"]==1][[\"Weight_(kg)\"]].count()[0]\n",
    "W_obs = women_df[women_df[\"Depression\"]==1][\"Weight_(kg)\"].median()- women_df[women_df[\"Depression\"]==-1][\"Weight_(kg)\"].median()\n",
    "Indicator_med = 0\n",
    "for i in range(B):\n",
    "    dep_index=  random.sample(range(200), d_num)\n",
    "    nd_index = [i for i in range(200) if i not in dep_index]\n",
    "    med1 = sample.iloc[dep_index, :][[\"Weight_(kg)\"]].median()\n",
    "    med2 = sample.iloc[nd_index, :][[\"Weight_(kg)\"]].median()\n",
    "    delta = med1-med2\n",
    "    if W_obs<=delta[0]:\n",
    "        Indicator_med+=1\n",
    "\n",
    "p_value_med = Indicator/B\n",
    "p_value_med"
   ]
  },
  {
   "cell_type": "markdown",
   "id": "baa6e353",
   "metadata": {},
   "source": [
    "Therefore, the null hypothesis is rejected of every significance level of above 0.03."
   ]
  },
  {
   "cell_type": "markdown",
   "id": "3fed0925",
   "metadata": {},
   "source": [
    "Permutation test:<br>\n",
    "$H_0: F_X(x) = F_Y(y)$<br>\n",
    "$H_1: F_X(x) \\prec F_Y(y)$<br>\n",
    "$T.S: T = \\sum \\limits _{i=1} ^{n} S_i, \\quad  S_i$ = the rank of the i observation in the depression category<br>\n",
    "$R.R: p-value <\\alpha$"
   ]
  },
  {
   "cell_type": "code",
   "execution_count": 16,
   "id": "db64c195",
   "metadata": {},
   "outputs": [
    {
     "data": {
      "text/plain": [
       "0.015"
      ]
     },
     "execution_count": 16,
     "metadata": {},
     "output_type": "execute_result"
    }
   ],
   "source": [
    "sample_rank=0\n",
    "sample_sorted = sample.sort_values(\"Weight_(kg)\", ascending = False)\n",
    "for i in range(200):\n",
    "    if sample_sorted.iloc[i][\"Depression\"]==1:\n",
    "        sample_rank+=i\n",
    "\n",
    "T=0\n",
    "for j in range(B):\n",
    "    boot_sample = sample.sample(n=200, replace=True)\n",
    "    sample1 = boot_sample.sort_values(\"Weight_(kg)\")\n",
    "    s1 = 0\n",
    "    for i in range(200):\n",
    "        if sample1.iloc[i][\"Depression\"]==1:\n",
    "            s1+=i\n",
    "    if s1<sample_rank:\n",
    "        T+=1\n",
    "pvalue = T/B\n",
    "pvalue"
   ]
  },
  {
   "cell_type": "markdown",
   "id": "be5c0e64",
   "metadata": {},
   "source": [
    "Therefore, the null hypothesis is rejected of every  significance level above 0.015."
   ]
  },
  {
   "cell_type": "markdown",
   "id": "80d14b23",
   "metadata": {},
   "source": [
    "examine whether we can use a normal approximation:"
   ]
  },
  {
   "cell_type": "code",
   "execution_count": 17,
   "id": "5fc874e5",
   "metadata": {},
   "outputs": [
    {
     "data": {
      "image/png": "[encoded data removed]",
      "text/plain": [
       "<Figure size 432x288 with 1 Axes>"
      ]
     },
     "metadata": {
      "needs_background": "light"
     },
     "output_type": "display_data"
    },
    {
     "data": {
      "image/png": "[encoded data removed]",
      "text/plain": [
       "<Figure size 432x288 with 1 Axes>"
      ]
     },
     "metadata": {
      "needs_background": "light"
     },
     "output_type": "display_data"
    }
   ],
   "source": [
    "import statsmodels.api as sm\n",
    "import pylab as py\n",
    "\n",
    "dep = women_df[women_df[\"Depression\"]==1][\"Weight_(kg)\"]\n",
    "non_dep = women_df[women_df[\"Depression\"]==-1][\"Weight_(kg)\"]\n",
    "sm.qqplot(dep, fit=True)\n",
    "plt.plot(np.arange(-3,3,0.01), np.arange(-3,3,0.01))\n",
    "plt.title(\"QQ Plot\", fontweight = \"bold\", fontsize = 15)\n",
    "plt.show()\n",
    "\n",
    "sm.qqplot(non_dep, fit = True)\n",
    "plt.plot(np.arange(-3,3,0.01), np.arange(-3,3,0.01))\n",
    "plt.title(\"QQ Plot\", fontweight = \"bold\", fontsize = 15)\n",
    "plt.show()"
   ]
  },
  {
   "cell_type": "code",
   "execution_count": 18,
   "id": "f14a5809",
   "metadata": {},
   "outputs": [
    {
     "data": {
      "image/png": "[encoded data removed]",
      "text/plain": [
       "<Figure size 864x432 with 2 Axes>"
      ]
     },
     "metadata": {
      "needs_background": "light"
     },
     "output_type": "display_data"
    }
   ],
   "source": [
    "fig, axs = plt.subplots(nrows=1, ncols=2, figsize=(12, 6))\n",
    "fig.suptitle('Histograms', fontsize=16)\n",
    "fig.tight_layout(pad=5.0) \n",
    "axs[0].hist(dep, bins=75, ec=\"black\", color=\"lightcoral\")\n",
    "axs[0].set(ylabel=\"counts\", xlabel= \"Weight_(kg)\", title= \"dep histogram\")\n",
    "axs[1].hist(non_dep, bins=75, ec=\"black\", color=\"lightcoral\")\n",
    "axs[1].set(ylabel=\"counts\", xlabel= \"Weight_(kg)\", title=\"non dep histogram\")\n",
    "\n",
    "plt.show()"
   ]
  }
 ],
 "metadata": {
  "kernelspec": {
   "display_name": "Python 3 (ipykernel)",
   "language": "python",
   "name": "python3"
  },
  "language_info": {
   "codemirror_mode": {
    "name": "ipython",
    "version": 3
   },
   "file_extension": ".py",
   "mimetype": "text/x-python",
   "name": "python",
   "nbconvert_exporter": "python",
   "pygments_lexer": "ipython3",
   "version": "3.9.12"
  }
 },
 "nbformat": 4,
 "nbformat_minor": 5
}
